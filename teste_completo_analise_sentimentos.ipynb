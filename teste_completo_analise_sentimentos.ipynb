{
  "cells": [
    {
      "cell_type": "markdown",
      "metadata": {
        "id": "view-in-github",
        "colab_type": "text"
      },
      "source": [
        "<a href=\"https://colab.research.google.com/github/aquemi/analise_sentimentos/blob/main/teste_completo_analise_sentimentos.ipynb\" target=\"_parent\"><img src=\"https://colab.research.google.com/assets/colab-badge.svg\" alt=\"Open In Colab\"/></a>"
      ]
    },
    {
      "cell_type": "markdown",
      "metadata": {
        "id": "zZzS7qdxgt72"
      },
      "source": [
        "Teste NLP com dados do Kaggle"
      ]
    },
    {
      "cell_type": "markdown",
      "metadata": {
        "id": "FUSA62CKh6l3"
      },
      "source": [
        "Os 4 Datasets disponíveis são compostos por:\n",
        "\n",
        "\n",
        "    Tweets with Theme: collected using around 100 political terms together with positive and negative emoticons. Contains around 60k tweets.\n",
        "\n",
        "    No Theme Tweets: collected using only positive and negative emoticons. Contains around 780k tweets.\n",
        "\n",
        "    Neutral Tweets from Hashtags: collected using hashtags. Contains around 15k tweets.\n",
        "\n",
        "    Neutral Tweets from News accounts: collected directly from popular news accounts. Contains around 35k tweets.\n",
        "\n",
        "*1. Com esse dataset tão variado que tipo de soluções acha possível implementar?*"
      ]
    },
    {
      "cell_type": "markdown",
      "metadata": {
        "id": "G9b5OJsgi7jS"
      },
      "source": [
        "Algumas soluções poderiam ser desenvolvidas, considerando o período da coleta dos dados:\n",
        "1. Utilizar o dataset com os termos políticos e predizer tendências de sentimento com relação à algum acontecimento político naquele mês/período;\n",
        "2. Identificar algum tipo de insatisfação, seja de um produto ou relacionada à alguma notícia em determinado local.\n",
        "3. Identificação de sentimentos a partir de hashtags específicas e como isso varia em diferentes regiões do Brasil."
      ]
    },
    {
      "cell_type": "markdown",
      "metadata": {
        "id": "5_GgUQ_IgqPP"
      },
      "source": [
        "### 2. Imagine que tenha que desenvolver dois serviços:\n",
        "\n",
        "*● Identificar se o tweet se refere a um produto*\n",
        "\n",
        "*● Identificar se ele cita alguma vaga de emprego\n",
        "Escolha um dos projetos e mapeie os requisitos e as necessidades para o desenvolvimento, que tarefas teria que fazer, quais técnicas usaria e porque.*\n",
        "\n",
        "#### Proposta de desenvolver um serviço que identifica se o tweet cita alguma vaga de emprego:\n",
        "\n",
        "Requisitos:\n",
        "1. Coleta dos dados:\n",
        "Inicialmente precisamos obter um conjunto de tweets que citam vagas de emprego e rotulamos eles dessa forma. Podemos obter a partir de hashtags específicas como #vagadeemprego ou #oportunidade. Todos que citam a vaga podem receber o rótulo 1.\n",
        "Outra classe que podemos ter são de tweets que não são vaga de emprego, sem temas ou hashtags específicas, que recebem o rótulo 0.\n",
        "\n",
        "2. Organizar esses dados em um dataframe, juntamente com os rótulo.\n",
        "\n",
        "3. Tratamento de dados:\n",
        "Inicialmente importamos as bibliotecas necessárias para o pré-processamento dos textos. Nesta etapa precisamos prepará-los de uma forma que possam ser processados numericamente.\n",
        "\n",
        "Podemos começar pré-processando os tweets com a técnica de *tokenizar*, ou seja dividir a frase em palavras.\n",
        "Em seguida, podemos pensar na remoção de ruídos, ou seja retirar caracteres que não são relevantes para identificar o que queremos. Estes caracteres incluem preposições (stop words), pontuação ou números. Podemos usar também *expressão regular* para identificar caracteres indesejados e removê-los.\n",
        "\n",
        "Em seguida, teremos os termos mais relevantes e palavras-chave, assim podemos usar a biblioteca *Natural Language Toolkit* para normalizar as palavras, ou seja padronizar todos os caracteres em letras minúsculas, dessa forma \"Carro\" ou \"CARRO\" ficarão com a grafia \"carro\".\n",
        "Podemos ainda usar técnicas de Lemmatizar ou Stemming, ambas reduzem ainda mais o texto e focam na raiz da palavra. Seria interessante testar as duas formas e checar o desempenho do modelo caso ele não performe bem inicialmente.\n",
        "Outra técnica que pode contribuir também é aplicar uma função de gramática e que categoriza as palavras em verbo, adjetivo ou substantivo.\n",
        "Após esse pré-processamento inicial, teremos que vetorizar os tweets de forma que possam ser representados por números.\n",
        "\n",
        "4. Separação dos dados:\n",
        "70% dos dados para treino;\n",
        "30% para teste;\n",
        "Base externa para teste de algum outro período;\n",
        "\n",
        "5. Construção do modelo\n",
        "Podemos usar um modelo simples de Naive Bayes, que é comumente utilizado para identificar se um e-mail é SPAM ou não. Esse modelo não considera a relação entre as palavras no texto mas a frequência de termos para a classificação.\n",
        "\n",
        "6. Análise de desempenho e melhorias\n",
        "Podemos gerar uma matriz de confusão, extrair métricas de desempenho como acurácia e F1-score.\n",
        "\n",
        "7. Implementação em um fluxo contínuo de desenvolvimento;"
      ]
    },
    {
      "cell_type": "markdown",
      "metadata": {
        "id": "wB3dMc2mnPyj"
      },
      "source": [
        "3. É possível desenvolver alguma parte do item acima com os dados que você tem? Se sim,\n",
        "resolva o possível no tempo disponibilizado."
      ]
    },
    {
      "cell_type": "code",
      "execution_count": 1,
      "metadata": {
        "id": "Cm9Q7Z6Vntsx"
      },
      "outputs": [],
      "source": [
        "import pandas as pd"
      ]
    },
    {
      "cell_type": "code",
      "execution_count": 2,
      "metadata": {
        "colab": {
          "base_uri": "https://localhost:8080/"
        },
        "id": "mWnv0UIRCcyg",
        "outputId": "1f7bc143-6f54-40f5-e5ed-dbd71de70405"
      },
      "outputs": [
        {
          "output_type": "stream",
          "name": "stdout",
          "text": [
            "Mounted at /content/drive/\n"
          ]
        }
      ],
      "source": [
        "from google.colab import drive #os dados do Kaggle foram colocados em uma pasta no GDrive e podemos importa-los para trabalhar neste documento.\n",
        "drive.mount('/content/drive/',force_remount=True)"
      ]
    },
    {
      "cell_type": "code",
      "execution_count": 3,
      "metadata": {
        "id": "ckEYMHmtEdhY"
      },
      "outputs": [],
      "source": [
        "tweets_hash = pd.read_csv('/content/drive/MyDrive/Colab Notebooks/Sentiment_Analysis/archive/TweetsNeutralHash.csv') #escolhi utilizar essa base com Tweets neutros e verificar as hashtags associadas."
      ]
    },
    {
      "cell_type": "code",
      "execution_count": 4,
      "metadata": {
        "colab": {
          "base_uri": "https://localhost:8080/",
          "height": 112
        },
        "id": "UbSnho-KEy64",
        "outputId": "373365a7-c598-4932-ae86-b55a053670ea"
      },
      "outputs": [
        {
          "output_type": "execute_result",
          "data": {
            "text/plain": [
              "                    id                                         tweet_text  \\\n",
              "0  1027376569449410562  @dilsonramoslima #Fato Acho que o Roger é um b...   \n",
              "1  1026566106599833600  #NOVIDADE! @LATAM_BRA acaba de anunciar novo v...   \n",
              "\n",
              "                       tweet_date sentiment query_used  \n",
              "0  Thu Aug 09 02:10:36 +0000 2018    Neutro      #fato  \n",
              "1  Mon Aug 06 20:30:07 +0000 2018    Neutro  #novidade  "
            ],
            "text/html": [
              "\n",
              "  <div id=\"df-ac9d43e9-95ff-4964-964b-8d78167aa918\" class=\"colab-df-container\">\n",
              "    <div>\n",
              "<style scoped>\n",
              "    .dataframe tbody tr th:only-of-type {\n",
              "        vertical-align: middle;\n",
              "    }\n",
              "\n",
              "    .dataframe tbody tr th {\n",
              "        vertical-align: top;\n",
              "    }\n",
              "\n",
              "    .dataframe thead th {\n",
              "        text-align: right;\n",
              "    }\n",
              "</style>\n",
              "<table border=\"1\" class=\"dataframe\">\n",
              "  <thead>\n",
              "    <tr style=\"text-align: right;\">\n",
              "      <th></th>\n",
              "      <th>id</th>\n",
              "      <th>tweet_text</th>\n",
              "      <th>tweet_date</th>\n",
              "      <th>sentiment</th>\n",
              "      <th>query_used</th>\n",
              "    </tr>\n",
              "  </thead>\n",
              "  <tbody>\n",
              "    <tr>\n",
              "      <th>0</th>\n",
              "      <td>1027376569449410562</td>\n",
              "      <td>@dilsonramoslima #Fato Acho que o Roger é um b...</td>\n",
              "      <td>Thu Aug 09 02:10:36 +0000 2018</td>\n",
              "      <td>Neutro</td>\n",
              "      <td>#fato</td>\n",
              "    </tr>\n",
              "    <tr>\n",
              "      <th>1</th>\n",
              "      <td>1026566106599833600</td>\n",
              "      <td>#NOVIDADE! @LATAM_BRA acaba de anunciar novo v...</td>\n",
              "      <td>Mon Aug 06 20:30:07 +0000 2018</td>\n",
              "      <td>Neutro</td>\n",
              "      <td>#novidade</td>\n",
              "    </tr>\n",
              "  </tbody>\n",
              "</table>\n",
              "</div>\n",
              "    <div class=\"colab-df-buttons\">\n",
              "\n",
              "  <div class=\"colab-df-container\">\n",
              "    <button class=\"colab-df-convert\" onclick=\"convertToInteractive('df-ac9d43e9-95ff-4964-964b-8d78167aa918')\"\n",
              "            title=\"Convert this dataframe to an interactive table.\"\n",
              "            style=\"display:none;\">\n",
              "\n",
              "  <svg xmlns=\"http://www.w3.org/2000/svg\" height=\"24px\" viewBox=\"0 -960 960 960\">\n",
              "    <path d=\"M120-120v-720h720v720H120Zm60-500h600v-160H180v160Zm220 220h160v-160H400v160Zm0 220h160v-160H400v160ZM180-400h160v-160H180v160Zm440 0h160v-160H620v160ZM180-180h160v-160H180v160Zm440 0h160v-160H620v160Z\"/>\n",
              "  </svg>\n",
              "    </button>\n",
              "\n",
              "  <style>\n",
              "    .colab-df-container {\n",
              "      display:flex;\n",
              "      gap: 12px;\n",
              "    }\n",
              "\n",
              "    .colab-df-convert {\n",
              "      background-color: #E8F0FE;\n",
              "      border: none;\n",
              "      border-radius: 50%;\n",
              "      cursor: pointer;\n",
              "      display: none;\n",
              "      fill: #1967D2;\n",
              "      height: 32px;\n",
              "      padding: 0 0 0 0;\n",
              "      width: 32px;\n",
              "    }\n",
              "\n",
              "    .colab-df-convert:hover {\n",
              "      background-color: #E2EBFA;\n",
              "      box-shadow: 0px 1px 2px rgba(60, 64, 67, 0.3), 0px 1px 3px 1px rgba(60, 64, 67, 0.15);\n",
              "      fill: #174EA6;\n",
              "    }\n",
              "\n",
              "    .colab-df-buttons div {\n",
              "      margin-bottom: 4px;\n",
              "    }\n",
              "\n",
              "    [theme=dark] .colab-df-convert {\n",
              "      background-color: #3B4455;\n",
              "      fill: #D2E3FC;\n",
              "    }\n",
              "\n",
              "    [theme=dark] .colab-df-convert:hover {\n",
              "      background-color: #434B5C;\n",
              "      box-shadow: 0px 1px 3px 1px rgba(0, 0, 0, 0.15);\n",
              "      filter: drop-shadow(0px 1px 2px rgba(0, 0, 0, 0.3));\n",
              "      fill: #FFFFFF;\n",
              "    }\n",
              "  </style>\n",
              "\n",
              "    <script>\n",
              "      const buttonEl =\n",
              "        document.querySelector('#df-ac9d43e9-95ff-4964-964b-8d78167aa918 button.colab-df-convert');\n",
              "      buttonEl.style.display =\n",
              "        google.colab.kernel.accessAllowed ? 'block' : 'none';\n",
              "\n",
              "      async function convertToInteractive(key) {\n",
              "        const element = document.querySelector('#df-ac9d43e9-95ff-4964-964b-8d78167aa918');\n",
              "        const dataTable =\n",
              "          await google.colab.kernel.invokeFunction('convertToInteractive',\n",
              "                                                    [key], {});\n",
              "        if (!dataTable) return;\n",
              "\n",
              "        const docLinkHtml = 'Like what you see? Visit the ' +\n",
              "          '<a target=\"_blank\" href=https://colab.research.google.com/notebooks/data_table.ipynb>data table notebook</a>'\n",
              "          + ' to learn more about interactive tables.';\n",
              "        element.innerHTML = '';\n",
              "        dataTable['output_type'] = 'display_data';\n",
              "        await google.colab.output.renderOutput(dataTable, element);\n",
              "        const docLink = document.createElement('div');\n",
              "        docLink.innerHTML = docLinkHtml;\n",
              "        element.appendChild(docLink);\n",
              "      }\n",
              "    </script>\n",
              "  </div>\n",
              "\n",
              "\n",
              "<div id=\"df-f46066ff-8327-47d6-acc4-200c2e4af8c0\">\n",
              "  <button class=\"colab-df-quickchart\" onclick=\"quickchart('df-f46066ff-8327-47d6-acc4-200c2e4af8c0')\"\n",
              "            title=\"Suggest charts.\"\n",
              "            style=\"display:none;\">\n",
              "\n",
              "<svg xmlns=\"http://www.w3.org/2000/svg\" height=\"24px\"viewBox=\"0 0 24 24\"\n",
              "     width=\"24px\">\n",
              "    <g>\n",
              "        <path d=\"M19 3H5c-1.1 0-2 .9-2 2v14c0 1.1.9 2 2 2h14c1.1 0 2-.9 2-2V5c0-1.1-.9-2-2-2zM9 17H7v-7h2v7zm4 0h-2V7h2v10zm4 0h-2v-4h2v4z\"/>\n",
              "    </g>\n",
              "</svg>\n",
              "  </button>\n",
              "\n",
              "<style>\n",
              "  .colab-df-quickchart {\n",
              "      --bg-color: #E8F0FE;\n",
              "      --fill-color: #1967D2;\n",
              "      --hover-bg-color: #E2EBFA;\n",
              "      --hover-fill-color: #174EA6;\n",
              "      --disabled-fill-color: #AAA;\n",
              "      --disabled-bg-color: #DDD;\n",
              "  }\n",
              "\n",
              "  [theme=dark] .colab-df-quickchart {\n",
              "      --bg-color: #3B4455;\n",
              "      --fill-color: #D2E3FC;\n",
              "      --hover-bg-color: #434B5C;\n",
              "      --hover-fill-color: #FFFFFF;\n",
              "      --disabled-bg-color: #3B4455;\n",
              "      --disabled-fill-color: #666;\n",
              "  }\n",
              "\n",
              "  .colab-df-quickchart {\n",
              "    background-color: var(--bg-color);\n",
              "    border: none;\n",
              "    border-radius: 50%;\n",
              "    cursor: pointer;\n",
              "    display: none;\n",
              "    fill: var(--fill-color);\n",
              "    height: 32px;\n",
              "    padding: 0;\n",
              "    width: 32px;\n",
              "  }\n",
              "\n",
              "  .colab-df-quickchart:hover {\n",
              "    background-color: var(--hover-bg-color);\n",
              "    box-shadow: 0 1px 2px rgba(60, 64, 67, 0.3), 0 1px 3px 1px rgba(60, 64, 67, 0.15);\n",
              "    fill: var(--button-hover-fill-color);\n",
              "  }\n",
              "\n",
              "  .colab-df-quickchart-complete:disabled,\n",
              "  .colab-df-quickchart-complete:disabled:hover {\n",
              "    background-color: var(--disabled-bg-color);\n",
              "    fill: var(--disabled-fill-color);\n",
              "    box-shadow: none;\n",
              "  }\n",
              "\n",
              "  .colab-df-spinner {\n",
              "    border: 2px solid var(--fill-color);\n",
              "    border-color: transparent;\n",
              "    border-bottom-color: var(--fill-color);\n",
              "    animation:\n",
              "      spin 1s steps(1) infinite;\n",
              "  }\n",
              "\n",
              "  @keyframes spin {\n",
              "    0% {\n",
              "      border-color: transparent;\n",
              "      border-bottom-color: var(--fill-color);\n",
              "      border-left-color: var(--fill-color);\n",
              "    }\n",
              "    20% {\n",
              "      border-color: transparent;\n",
              "      border-left-color: var(--fill-color);\n",
              "      border-top-color: var(--fill-color);\n",
              "    }\n",
              "    30% {\n",
              "      border-color: transparent;\n",
              "      border-left-color: var(--fill-color);\n",
              "      border-top-color: var(--fill-color);\n",
              "      border-right-color: var(--fill-color);\n",
              "    }\n",
              "    40% {\n",
              "      border-color: transparent;\n",
              "      border-right-color: var(--fill-color);\n",
              "      border-top-color: var(--fill-color);\n",
              "    }\n",
              "    60% {\n",
              "      border-color: transparent;\n",
              "      border-right-color: var(--fill-color);\n",
              "    }\n",
              "    80% {\n",
              "      border-color: transparent;\n",
              "      border-right-color: var(--fill-color);\n",
              "      border-bottom-color: var(--fill-color);\n",
              "    }\n",
              "    90% {\n",
              "      border-color: transparent;\n",
              "      border-bottom-color: var(--fill-color);\n",
              "    }\n",
              "  }\n",
              "</style>\n",
              "\n",
              "  <script>\n",
              "    async function quickchart(key) {\n",
              "      const quickchartButtonEl =\n",
              "        document.querySelector('#' + key + ' button');\n",
              "      quickchartButtonEl.disabled = true;  // To prevent multiple clicks.\n",
              "      quickchartButtonEl.classList.add('colab-df-spinner');\n",
              "      try {\n",
              "        const charts = await google.colab.kernel.invokeFunction(\n",
              "            'suggestCharts', [key], {});\n",
              "      } catch (error) {\n",
              "        console.error('Error during call to suggestCharts:', error);\n",
              "      }\n",
              "      quickchartButtonEl.classList.remove('colab-df-spinner');\n",
              "      quickchartButtonEl.classList.add('colab-df-quickchart-complete');\n",
              "    }\n",
              "    (() => {\n",
              "      let quickchartButtonEl =\n",
              "        document.querySelector('#df-f46066ff-8327-47d6-acc4-200c2e4af8c0 button');\n",
              "      quickchartButtonEl.style.display =\n",
              "        google.colab.kernel.accessAllowed ? 'block' : 'none';\n",
              "    })();\n",
              "  </script>\n",
              "</div>\n",
              "    </div>\n",
              "  </div>\n"
            ]
          },
          "metadata": {},
          "execution_count": 4
        }
      ],
      "source": [
        "tweets_hash.head(2)"
      ]
    },
    {
      "cell_type": "code",
      "execution_count": 5,
      "metadata": {
        "colab": {
          "base_uri": "https://localhost:8080/"
        },
        "id": "RkqXRSFjHcnH",
        "outputId": "e2602441-3cc4-425c-accc-caa22b1276d9"
      },
      "outputs": [
        {
          "output_type": "stream",
          "name": "stdout",
          "text": [
            "<class 'pandas.core.frame.DataFrame'>\n",
            "RangeIndex: 15727 entries, 0 to 15726\n",
            "Data columns (total 5 columns):\n",
            " #   Column      Non-Null Count  Dtype \n",
            "---  ------      --------------  ----- \n",
            " 0   id          15727 non-null  int64 \n",
            " 1   tweet_text  15727 non-null  object\n",
            " 2   tweet_date  15727 non-null  object\n",
            " 3   sentiment   15727 non-null  object\n",
            " 4   query_used  15727 non-null  object\n",
            "dtypes: int64(1), object(4)\n",
            "memory usage: 614.5+ KB\n"
          ]
        }
      ],
      "source": [
        "tweets_hash.info() #identificação das colunas no dataset"
      ]
    },
    {
      "cell_type": "code",
      "execution_count": 6,
      "metadata": {
        "colab": {
          "base_uri": "https://localhost:8080/"
        },
        "id": "FYBQLuo7PfEE",
        "outputId": "88cbce87-b47d-4ee4-a857-bc9eb5a75055"
      },
      "outputs": [
        {
          "output_type": "execute_result",
          "data": {
            "text/plain": [
              "#fato            5486\n",
              "#trabalho        3951\n",
              "#oportunidade    2911\n",
              "#noticia         1622\n",
              "#novidade        1275\n",
              "#curiosidade      482\n",
              "Name: query_used, dtype: int64"
            ]
          },
          "metadata": {},
          "execution_count": 6
        }
      ],
      "source": [
        "tweets_hash['query_used'].value_counts() #agrupamento das hashtags e quantidade de cada uma"
      ]
    },
    {
      "cell_type": "markdown",
      "metadata": {
        "id": "3GzRc_AePEsS"
      },
      "source": [
        "Com base nas hashtags e nos textos podemos *começar a selecionar* os tweets relacionados à vagas de emprego para anotação dos dados:"
      ]
    },
    {
      "cell_type": "code",
      "execution_count": 7,
      "metadata": {
        "id": "x5NG4OLDMxWe"
      },
      "outputs": [],
      "source": [
        "hash_interesse = ['oportunidade', 'trabalho']\n",
        "hashtags = '|'.join(hash_interesse)"
      ]
    },
    {
      "cell_type": "markdown",
      "metadata": {
        "id": "3HXtpKQKP61C"
      },
      "source": [
        "Anotação dos tweets que são vagas de emprego com o rótulo 1"
      ]
    },
    {
      "cell_type": "code",
      "execution_count": 8,
      "metadata": {
        "colab": {
          "base_uri": "https://localhost:8080/"
        },
        "id": "VMoi1fsLKVJM",
        "outputId": "25be57d6-eb63-468e-d4e5-31c34dd2fdb9"
      },
      "outputs": [
        {
          "output_type": "stream",
          "name": "stderr",
          "text": [
            "<ipython-input-8-ce47d8cfc013>:2: SettingWithCopyWarning: \n",
            "A value is trying to be set on a copy of a slice from a DataFrame.\n",
            "Try using .loc[row_indexer,col_indexer] = value instead\n",
            "\n",
            "See the caveats in the documentation: https://pandas.pydata.org/pandas-docs/stable/user_guide/indexing.html#returning-a-view-versus-a-copy\n",
            "  vagas['label'] = 1\n"
          ]
        }
      ],
      "source": [
        "vagas = tweets_hash[tweets_hash.query_used.str.contains(hashtags)]\n",
        "vagas['label'] = 1"
      ]
    },
    {
      "cell_type": "markdown",
      "metadata": {
        "id": "JDCzvVrWT6DZ"
      },
      "source": [
        "Anotação dos tweets que não são vagas de emprego com o rótulo 0"
      ]
    },
    {
      "cell_type": "code",
      "execution_count": 9,
      "metadata": {
        "id": "juH1zAmTTh-y"
      },
      "outputs": [],
      "source": [
        "outras_hash = ['fato', 'noticia','curiosidade']\n",
        "hashtags = '|'.join(outras_hash)"
      ]
    },
    {
      "cell_type": "code",
      "execution_count": 10,
      "metadata": {
        "colab": {
          "base_uri": "https://localhost:8080/"
        },
        "id": "vw6aks9EQhID",
        "outputId": "41390f20-474e-4c73-9b71-d8ab2629d662"
      },
      "outputs": [
        {
          "output_type": "stream",
          "name": "stderr",
          "text": [
            "<ipython-input-10-bb26295a856c>:2: SettingWithCopyWarning: \n",
            "A value is trying to be set on a copy of a slice from a DataFrame.\n",
            "Try using .loc[row_indexer,col_indexer] = value instead\n",
            "\n",
            "See the caveats in the documentation: https://pandas.pydata.org/pandas-docs/stable/user_guide/indexing.html#returning-a-view-versus-a-copy\n",
            "  no_vagas['label'] = 0\n"
          ]
        }
      ],
      "source": [
        "no_vagas = tweets_hash[tweets_hash.query_used.str.contains(hashtags)]\n",
        "no_vagas['label'] = 0"
      ]
    },
    {
      "cell_type": "markdown",
      "metadata": {
        "id": "SChWc5j0U86q"
      },
      "source": [
        "Concatenamos as tabelas e vemos que as classes estão balanceadas:"
      ]
    },
    {
      "cell_type": "code",
      "execution_count": 11,
      "metadata": {
        "id": "d3568EtlUaJf"
      },
      "outputs": [],
      "source": [
        "vagas_total = pd.concat([vagas, no_vagas])"
      ]
    },
    {
      "cell_type": "code",
      "execution_count": 12,
      "metadata": {
        "colab": {
          "base_uri": "https://localhost:8080/"
        },
        "id": "oJOc2p0mUvlx",
        "outputId": "8fd438c6-cc74-4fd9-c7f3-7079ed0244d6"
      },
      "outputs": [
        {
          "output_type": "execute_result",
          "data": {
            "text/plain": [
              "0    7590\n",
              "1    6862\n",
              "Name: label, dtype: int64"
            ]
          },
          "metadata": {},
          "execution_count": 12
        }
      ],
      "source": [
        "vagas_total.label.value_counts()"
      ]
    },
    {
      "cell_type": "code",
      "execution_count": 13,
      "metadata": {
        "id": "AGX1mIOuV1HS"
      },
      "outputs": [],
      "source": [
        "import matplotlib.pyplot as plt"
      ]
    },
    {
      "cell_type": "code",
      "execution_count": 14,
      "metadata": {
        "colab": {
          "base_uri": "https://localhost:8080/",
          "height": 542
        },
        "id": "biS3TDPlVEPp",
        "outputId": "5ab7a422-0fd6-4fb9-9078-aefaed986ffc"
      },
      "outputs": [
        {
          "output_type": "display_data",
          "data": {
            "text/plain": [
              "<Figure size 1000x600 with 1 Axes>"
            ],
            "image/png": "[encoded data removed]"
          },
          "metadata": {}
        }
      ],
      "source": [
        "plot1 = vagas_total.label.value_counts()\n",
        "fig = plt.figure(figsize=(10,6))\n",
        "plot1[:].sort_values().plot(kind='barh')\n",
        "plt.xlabel('Frequência')\n",
        "plt.ylabel('Label')\n",
        "plt.grid(axis = 'x', color = 'green', linestyle = '--', linewidth = 0.5)\n",
        "#fig.savefig('studygraph2.png', dpi=300,bbox_inches='tight')"
      ]
    },
    {
      "cell_type": "markdown",
      "metadata": {
        "id": "PdA2xAFxC33E"
      },
      "source": [
        "Checando as anotações:"
      ]
    },
    {
      "cell_type": "code",
      "execution_count": 15,
      "metadata": {
        "colab": {
          "base_uri": "https://localhost:8080/"
        },
        "id": "uKv5ZN2yHpms",
        "outputId": "8ec32f81-c78c-4a78-eb6f-38426431b5b4"
      },
      "outputs": [
        {
          "output_type": "execute_result",
          "data": {
            "text/plain": [
              "('#Notícia: Caern 115 fará manutenção na Adutora I do Jiqui e 10 bairros de Natal serão afetados pelo desabastecimento de água, confira os bairros afetados https://t.co/zSwuwlDLH9',\n",
              " 0)"
            ]
          },
          "metadata": {},
          "execution_count": 15
        }
      ],
      "source": [
        "vagas_total.tweet_text[30], vagas_total.label[30]"
      ]
    },
    {
      "cell_type": "markdown",
      "metadata": {
        "id": "LqsAPoMh2qRg"
      },
      "source": [
        "Embora aqui eu tenha mostrado uma forma inicial para anotar os dados, eu precisaria de mais tempo de dedicação para fazer uma análise de qualidade das anotações a fim de verificar se todas as frases com hashtag #trabalho e #oportunidade são de fato vaga de emprego. Para isso, uma alternativa seria começar criando um dataset menor, cerca de 50 tweets que comumente caracterizam uma vaga de emprego, tais como como local, contato, requisitos mínimos, anos de experiência e cargo. Essas variáveis definem o que caracteriza o que queremos identificar.\n",
        "\n",
        "Como o dataset é extenso, uma alternativa à anotação manual seria usar uma IA para gerar tweets baseados nos groundtruths, apenas variando os atributos mas mantendo o contexto de vaga de emprego. Com uma boa quantidade de dados, podemos calcular os vetores que irão representar os textos de forma numérica, utilizando o Word2Vec, por exemplo. Em seguida, podemos gerar usar Naive Bayes ou um modelo de Floresta Aleatória para classificar se um texto é vaga de emprego ou não e testar em diversos datasets de redes sociais que anunciam vagas de emprego para verificar o desempenho. Caso o desempenho não seja satisfatório, podemos verificar qual o principal problema, se temos grandes quantidades de:\n",
        "\n",
        "1. Falso Positivo - não é vaga de emprego, mas o modelo diz que sim\n",
        "2. Falso Negativo - é vaga de emprego, mas o modelo diz que não\n",
        "\n",
        "No primeiro caso, o impacto é que o serviço entregue tweets que parecem ser vaga de emprego mas não são. Podemos usar esses casos para identificar se há um padrão em todos esses que o modelo errou. Provavelmente eram tweets semelhantes nas informações, talvez fosse uma pessoa que colocou informações sobre ela mesma para atrair mais oportunidades. Esse é um exemplo de erro que poderia acontecer. Dessa forma, teríamos que analisar os casos de erro para entender quais ou qual foi o fator de confusão para o modelo.\n",
        "\n",
        "No segundo caso, teríamos o problema de não receber vagas de emprego quando elas são e perder oportunidades. Nesse caso, o modelo pode não ter aprendido muito bem e pode ser repensado na forma que foi treinado. No entanto, podemos ver novamente um padrão nesses casos e verificar se o dado de entrada no modelo seguiu a forma como ele foi desenvolvido para identificar o texto. Por exemplo, o texto analisado pode conter apenas um e-mail ou textos abreviados que não foram identificados corretamente pelo modelo.\n",
        "\n",
        "Os modelos desenvolvidos terão limitações, no entanto ao analisar essa limitações, é possível escolher um caminho diferente para testar e avançar com o aprendizado. Com esse refinamento, aprimoramos as técnicas e chegamos à excelência."
      ]
    },
    {
      "cell_type": "markdown",
      "metadata": {
        "id": "L5ev5jr64S0C"
      },
      "source": [
        "4. Faça um modelo de análise de sentimentos dos tweets. Analise e descreva os erros e que\n",
        "técnicas poderia utilizar para melhorá-lo, não é necessário aplicá-las."
      ]
    },
    {
      "cell_type": "code",
      "execution_count": 16,
      "metadata": {
        "id": "qJ6mV7Rg_8SU"
      },
      "outputs": [],
      "source": [
        "treino = pd.read_csv('/content/drive/MyDrive/Colab Notebooks/Sentiment_Analysis/archive/TrainingDatasets/Train50.csv',sep=';')"
      ]
    },
    {
      "cell_type": "code",
      "execution_count": 17,
      "metadata": {
        "colab": {
          "base_uri": "https://localhost:8080/",
          "height": 112
        },
        "id": "rJb3KobNBbbd",
        "outputId": "8cb9c7bf-c9dc-4dec-cb45-0a185444395a"
      },
      "outputs": [
        {
          "output_type": "execute_result",
          "data": {
            "text/plain": [
              "                    id                                         tweet_text  \\\n",
              "0  1050785521201541121  @Laranjito76 A pessoa certa para isso seria o ...   \n",
              "1  1050785431955140608  @behin_d_curtain Para mim, é precisamente o co...   \n",
              "\n",
              "                       tweet_date  sentiment query_used  \n",
              "0  Fri Oct 12 16:29:25 +0000 2018          1         :)  \n",
              "1  Fri Oct 12 16:29:04 +0000 2018          1         :)  "
            ],
            "text/html": [
              "\n",
              "  <div id=\"df-e2f13141-9958-4414-a9c4-60896da3b795\" class=\"colab-df-container\">\n",
              "    <div>\n",
              "<style scoped>\n",
              "    .dataframe tbody tr th:only-of-type {\n",
              "        vertical-align: middle;\n",
              "    }\n",
              "\n",
              "    .dataframe tbody tr th {\n",
              "        vertical-align: top;\n",
              "    }\n",
              "\n",
              "    .dataframe thead th {\n",
              "        text-align: right;\n",
              "    }\n",
              "</style>\n",
              "<table border=\"1\" class=\"dataframe\">\n",
              "  <thead>\n",
              "    <tr style=\"text-align: right;\">\n",
              "      <th></th>\n",
              "      <th>id</th>\n",
              "      <th>tweet_text</th>\n",
              "      <th>tweet_date</th>\n",
              "      <th>sentiment</th>\n",
              "      <th>query_used</th>\n",
              "    </tr>\n",
              "  </thead>\n",
              "  <tbody>\n",
              "    <tr>\n",
              "      <th>0</th>\n",
              "      <td>1050785521201541121</td>\n",
              "      <td>@Laranjito76 A pessoa certa para isso seria o ...</td>\n",
              "      <td>Fri Oct 12 16:29:25 +0000 2018</td>\n",
              "      <td>1</td>\n",
              "      <td>:)</td>\n",
              "    </tr>\n",
              "    <tr>\n",
              "      <th>1</th>\n",
              "      <td>1050785431955140608</td>\n",
              "      <td>@behin_d_curtain Para mim, é precisamente o co...</td>\n",
              "      <td>Fri Oct 12 16:29:04 +0000 2018</td>\n",
              "      <td>1</td>\n",
              "      <td>:)</td>\n",
              "    </tr>\n",
              "  </tbody>\n",
              "</table>\n",
              "</div>\n",
              "    <div class=\"colab-df-buttons\">\n",
              "\n",
              "  <div class=\"colab-df-container\">\n",
              "    <button class=\"colab-df-convert\" onclick=\"convertToInteractive('df-e2f13141-9958-4414-a9c4-60896da3b795')\"\n",
              "            title=\"Convert this dataframe to an interactive table.\"\n",
              "            style=\"display:none;\">\n",
              "\n",
              "  <svg xmlns=\"http://www.w3.org/2000/svg\" height=\"24px\" viewBox=\"0 -960 960 960\">\n",
              "    <path d=\"M120-120v-720h720v720H120Zm60-500h600v-160H180v160Zm220 220h160v-160H400v160Zm0 220h160v-160H400v160ZM180-400h160v-160H180v160Zm440 0h160v-160H620v160ZM180-180h160v-160H180v160Zm440 0h160v-160H620v160Z\"/>\n",
              "  </svg>\n",
              "    </button>\n",
              "\n",
              "  <style>\n",
              "    .colab-df-container {\n",
              "      display:flex;\n",
              "      gap: 12px;\n",
              "    }\n",
              "\n",
              "    .colab-df-convert {\n",
              "      background-color: #E8F0FE;\n",
              "      border: none;\n",
              "      border-radius: 50%;\n",
              "      cursor: pointer;\n",
              "      display: none;\n",
              "      fill: #1967D2;\n",
              "      height: 32px;\n",
              "      padding: 0 0 0 0;\n",
              "      width: 32px;\n",
              "    }\n",
              "\n",
              "    .colab-df-convert:hover {\n",
              "      background-color: #E2EBFA;\n",
              "      box-shadow: 0px 1px 2px rgba(60, 64, 67, 0.3), 0px 1px 3px 1px rgba(60, 64, 67, 0.15);\n",
              "      fill: #174EA6;\n",
              "    }\n",
              "\n",
              "    .colab-df-buttons div {\n",
              "      margin-bottom: 4px;\n",
              "    }\n",
              "\n",
              "    [theme=dark] .colab-df-convert {\n",
              "      background-color: #3B4455;\n",
              "      fill: #D2E3FC;\n",
              "    }\n",
              "\n",
              "    [theme=dark] .colab-df-convert:hover {\n",
              "      background-color: #434B5C;\n",
              "      box-shadow: 0px 1px 3px 1px rgba(0, 0, 0, 0.15);\n",
              "      filter: drop-shadow(0px 1px 2px rgba(0, 0, 0, 0.3));\n",
              "      fill: #FFFFFF;\n",
              "    }\n",
              "  </style>\n",
              "\n",
              "    <script>\n",
              "      const buttonEl =\n",
              "        document.querySelector('#df-e2f13141-9958-4414-a9c4-60896da3b795 button.colab-df-convert');\n",
              "      buttonEl.style.display =\n",
              "        google.colab.kernel.accessAllowed ? 'block' : 'none';\n",
              "\n",
              "      async function convertToInteractive(key) {\n",
              "        const element = document.querySelector('#df-e2f13141-9958-4414-a9c4-60896da3b795');\n",
              "        const dataTable =\n",
              "          await google.colab.kernel.invokeFunction('convertToInteractive',\n",
              "                                                    [key], {});\n",
              "        if (!dataTable) return;\n",
              "\n",
              "        const docLinkHtml = 'Like what you see? Visit the ' +\n",
              "          '<a target=\"_blank\" href=https://colab.research.google.com/notebooks/data_table.ipynb>data table notebook</a>'\n",
              "          + ' to learn more about interactive tables.';\n",
              "        element.innerHTML = '';\n",
              "        dataTable['output_type'] = 'display_data';\n",
              "        await google.colab.output.renderOutput(dataTable, element);\n",
              "        const docLink = document.createElement('div');\n",
              "        docLink.innerHTML = docLinkHtml;\n",
              "        element.appendChild(docLink);\n",
              "      }\n",
              "    </script>\n",
              "  </div>\n",
              "\n",
              "\n",
              "<div id=\"df-4de69f0f-5dbd-4fd4-bb95-eacd78b6d56f\">\n",
              "  <button class=\"colab-df-quickchart\" onclick=\"quickchart('df-4de69f0f-5dbd-4fd4-bb95-eacd78b6d56f')\"\n",
              "            title=\"Suggest charts.\"\n",
              "            style=\"display:none;\">\n",
              "\n",
              "<svg xmlns=\"http://www.w3.org/2000/svg\" height=\"24px\"viewBox=\"0 0 24 24\"\n",
              "     width=\"24px\">\n",
              "    <g>\n",
              "        <path d=\"M19 3H5c-1.1 0-2 .9-2 2v14c0 1.1.9 2 2 2h14c1.1 0 2-.9 2-2V5c0-1.1-.9-2-2-2zM9 17H7v-7h2v7zm4 0h-2V7h2v10zm4 0h-2v-4h2v4z\"/>\n",
              "    </g>\n",
              "</svg>\n",
              "  </button>\n",
              "\n",
              "<style>\n",
              "  .colab-df-quickchart {\n",
              "      --bg-color: #E8F0FE;\n",
              "      --fill-color: #1967D2;\n",
              "      --hover-bg-color: #E2EBFA;\n",
              "      --hover-fill-color: #174EA6;\n",
              "      --disabled-fill-color: #AAA;\n",
              "      --disabled-bg-color: #DDD;\n",
              "  }\n",
              "\n",
              "  [theme=dark] .colab-df-quickchart {\n",
              "      --bg-color: #3B4455;\n",
              "      --fill-color: #D2E3FC;\n",
              "      --hover-bg-color: #434B5C;\n",
              "      --hover-fill-color: #FFFFFF;\n",
              "      --disabled-bg-color: #3B4455;\n",
              "      --disabled-fill-color: #666;\n",
              "  }\n",
              "\n",
              "  .colab-df-quickchart {\n",
              "    background-color: var(--bg-color);\n",
              "    border: none;\n",
              "    border-radius: 50%;\n",
              "    cursor: pointer;\n",
              "    display: none;\n",
              "    fill: var(--fill-color);\n",
              "    height: 32px;\n",
              "    padding: 0;\n",
              "    width: 32px;\n",
              "  }\n",
              "\n",
              "  .colab-df-quickchart:hover {\n",
              "    background-color: var(--hover-bg-color);\n",
              "    box-shadow: 0 1px 2px rgba(60, 64, 67, 0.3), 0 1px 3px 1px rgba(60, 64, 67, 0.15);\n",
              "    fill: var(--button-hover-fill-color);\n",
              "  }\n",
              "\n",
              "  .colab-df-quickchart-complete:disabled,\n",
              "  .colab-df-quickchart-complete:disabled:hover {\n",
              "    background-color: var(--disabled-bg-color);\n",
              "    fill: var(--disabled-fill-color);\n",
              "    box-shadow: none;\n",
              "  }\n",
              "\n",
              "  .colab-df-spinner {\n",
              "    border: 2px solid var(--fill-color);\n",
              "    border-color: transparent;\n",
              "    border-bottom-color: var(--fill-color);\n",
              "    animation:\n",
              "      spin 1s steps(1) infinite;\n",
              "  }\n",
              "\n",
              "  @keyframes spin {\n",
              "    0% {\n",
              "      border-color: transparent;\n",
              "      border-bottom-color: var(--fill-color);\n",
              "      border-left-color: var(--fill-color);\n",
              "    }\n",
              "    20% {\n",
              "      border-color: transparent;\n",
              "      border-left-color: var(--fill-color);\n",
              "      border-top-color: var(--fill-color);\n",
              "    }\n",
              "    30% {\n",
              "      border-color: transparent;\n",
              "      border-left-color: var(--fill-color);\n",
              "      border-top-color: var(--fill-color);\n",
              "      border-right-color: var(--fill-color);\n",
              "    }\n",
              "    40% {\n",
              "      border-color: transparent;\n",
              "      border-right-color: var(--fill-color);\n",
              "      border-top-color: var(--fill-color);\n",
              "    }\n",
              "    60% {\n",
              "      border-color: transparent;\n",
              "      border-right-color: var(--fill-color);\n",
              "    }\n",
              "    80% {\n",
              "      border-color: transparent;\n",
              "      border-right-color: var(--fill-color);\n",
              "      border-bottom-color: var(--fill-color);\n",
              "    }\n",
              "    90% {\n",
              "      border-color: transparent;\n",
              "      border-bottom-color: var(--fill-color);\n",
              "    }\n",
              "  }\n",
              "</style>\n",
              "\n",
              "  <script>\n",
              "    async function quickchart(key) {\n",
              "      const quickchartButtonEl =\n",
              "        document.querySelector('#' + key + ' button');\n",
              "      quickchartButtonEl.disabled = true;  // To prevent multiple clicks.\n",
              "      quickchartButtonEl.classList.add('colab-df-spinner');\n",
              "      try {\n",
              "        const charts = await google.colab.kernel.invokeFunction(\n",
              "            'suggestCharts', [key], {});\n",
              "      } catch (error) {\n",
              "        console.error('Error during call to suggestCharts:', error);\n",
              "      }\n",
              "      quickchartButtonEl.classList.remove('colab-df-spinner');\n",
              "      quickchartButtonEl.classList.add('colab-df-quickchart-complete');\n",
              "    }\n",
              "    (() => {\n",
              "      let quickchartButtonEl =\n",
              "        document.querySelector('#df-4de69f0f-5dbd-4fd4-bb95-eacd78b6d56f button');\n",
              "      quickchartButtonEl.style.display =\n",
              "        google.colab.kernel.accessAllowed ? 'block' : 'none';\n",
              "    })();\n",
              "  </script>\n",
              "</div>\n",
              "    </div>\n",
              "  </div>\n"
            ]
          },
          "metadata": {},
          "execution_count": 17
        }
      ],
      "source": [
        "treino.head(2)"
      ]
    },
    {
      "cell_type": "markdown",
      "source": [
        "Função que remove pontuações, stop words e deixa todas as palavras minúsculas"
      ],
      "metadata": {
        "id": "P9h3TvCp5-tl"
      }
    },
    {
      "cell_type": "code",
      "execution_count": 18,
      "metadata": {
        "colab": {
          "base_uri": "https://localhost:8080/"
        },
        "id": "C1yaqjeyCRKA",
        "outputId": "84f9875f-bb8b-486b-dd77-e4aafaba8135"
      },
      "outputs": [
        {
          "output_type": "stream",
          "name": "stderr",
          "text": [
            "[nltk_data] Downloading package stopwords to /root/nltk_data...\n",
            "[nltk_data]   Package stopwords is already up-to-date!\n"
          ]
        }
      ],
      "source": [
        "import string\n",
        "# Baixa a lista de stopwords\n",
        "import nltk\n",
        "nltk.download('stopwords')\n",
        "from nltk.corpus import stopwords\n",
        "\n",
        "def pre_processing_tweets(texto):\n",
        "    # Função para remover pontuação\n",
        "    texto_sem_pontuacao = ''.join([char for char in texto if char not in string.punctuation])\n",
        "    # Tokenização\n",
        "    token = texto_sem_pontuacao.split()\n",
        "    # Obter stopwords em português\n",
        "    stop_words = set(stopwords.words('portuguese'))\n",
        "    # Remover stopwords e normalizar palavras para minúsculas\n",
        "    tokens_sem_stopwords = [token.lower() for token in token if token.lower() not in stop_words]\n",
        "    return \" \".join(tokens_sem_stopwords)\n"
      ]
    },
    {
      "cell_type": "code",
      "execution_count": 23,
      "metadata": {
        "colab": {
          "base_uri": "https://localhost:8080/"
        },
        "id": "3bx-QKodGMFp",
        "outputId": "ba330e6c-be55-4a4f-cd8c-8e8163f42a36"
      },
      "outputs": [
        {
          "output_type": "execute_result",
          "data": {
            "text/plain": [
              "('@Laranjito76 A pessoa certa para isso seria o vale e azevedo :)', 1)"
            ]
          },
          "metadata": {},
          "execution_count": 23
        }
      ],
      "source": [
        "treino.tweet_text[0], treino.sentiment[0] #frase inicial"
      ]
    },
    {
      "cell_type": "code",
      "execution_count": 20,
      "metadata": {
        "colab": {
          "base_uri": "https://localhost:8080/",
          "height": 35
        },
        "id": "UWofof0pH1Xj",
        "outputId": "1c005f6a-a84f-4423-fe8b-f09e57ce2de3"
      },
      "outputs": [
        {
          "output_type": "execute_result",
          "data": {
            "text/plain": [
              "'laranjito76 pessoa certa vale azevedo'"
            ],
            "application/vnd.google.colaboratory.intrinsic+json": {
              "type": "string"
            }
          },
          "metadata": {},
          "execution_count": 20
        }
      ],
      "source": [
        "pre_processing_tweets(treino.tweet_text[0]) #após pré processamento"
      ]
    },
    {
      "cell_type": "markdown",
      "source": [
        "Pré processando os tweets de treino"
      ],
      "metadata": {
        "id": "CW_TmdrbQOxi"
      }
    },
    {
      "cell_type": "code",
      "execution_count": 21,
      "metadata": {
        "id": "C1TI4CkXF8ZH"
      },
      "outputs": [],
      "source": [
        "treino_preprocessed = [] #usamos o dataset com 50 mil tweets e aplicamos a função de pré-processamento\n",
        "for i in range(len(treino.tweet_text)):\n",
        "  treino_preprocessed.append(pre_processing_tweets(treino.tweet_text[i]))"
      ]
    },
    {
      "cell_type": "code",
      "source": [
        "len(treino_preprocessed)"
      ],
      "metadata": {
        "colab": {
          "base_uri": "https://localhost:8080/"
        },
        "id": "XL7CqV_YQ6a-",
        "outputId": "fa3940f6-19e3-49a0-ffac-9b386bffc861"
      },
      "execution_count": 22,
      "outputs": [
        {
          "output_type": "execute_result",
          "data": {
            "text/plain": [
              "50000"
            ]
          },
          "metadata": {},
          "execution_count": 22
        }
      ]
    },
    {
      "cell_type": "markdown",
      "source": [
        " Vamos usar o método CountVectorizer, ele é usado para transformar um determinado texto em um vetor com base na frequência de cada palavra que ocorre em todo o texto. Dessa forma é possível representar numericamente os tweets."
      ],
      "metadata": {
        "id": "tnAGrhwMBK50"
      }
    },
    {
      "cell_type": "code",
      "execution_count": 24,
      "metadata": {
        "id": "SIK0-uk1cjlV"
      },
      "outputs": [],
      "source": [
        "from sklearn.feature_extraction.text import CountVectorizer\n",
        "cv = CountVectorizer()"
      ]
    },
    {
      "cell_type": "code",
      "source": [
        "treino_vetorizado = cv.fit_transform(treino_preprocessed)"
      ],
      "metadata": {
        "id": "yRSeitFQQuX8"
      },
      "execution_count": 25,
      "outputs": []
    },
    {
      "cell_type": "code",
      "source": [
        "treino_array = treino_vetorizado.toarray()"
      ],
      "metadata": {
        "id": "Bb6zIy0cSG1s"
      },
      "execution_count": 26,
      "outputs": []
    },
    {
      "cell_type": "markdown",
      "source": [
        "Checamos se as classes estão balanceadas"
      ],
      "metadata": {
        "id": "vkPBIIR4BqoK"
      }
    },
    {
      "cell_type": "code",
      "source": [
        "y_train = treino['sentiment']"
      ],
      "metadata": {
        "id": "ezpdzxcfRdct"
      },
      "execution_count": 27,
      "outputs": []
    },
    {
      "cell_type": "code",
      "source": [
        "y_train.value_counts()"
      ],
      "metadata": {
        "colab": {
          "base_uri": "https://localhost:8080/"
        },
        "id": "OVnyZ77tRji1",
        "outputId": "956a88d9-e927-4258-90ce-49a2b237385d"
      },
      "execution_count": 28,
      "outputs": [
        {
          "output_type": "execute_result",
          "data": {
            "text/plain": [
              "1    25000\n",
              "0    25000\n",
              "Name: sentiment, dtype: int64"
            ]
          },
          "metadata": {},
          "execution_count": 28
        }
      ]
    },
    {
      "cell_type": "code",
      "source": [
        "from sklearn.naive_bayes import MultinomialNB"
      ],
      "metadata": {
        "id": "xyN9eNBaSlgt"
      },
      "execution_count": 29,
      "outputs": []
    },
    {
      "cell_type": "code",
      "source": [
        "# Treinando o modelo Naive Bayes\n",
        "nb_classifier = MultinomialNB()\n",
        "nb_classifier.fit(treino_array, y_train)"
      ],
      "metadata": {
        "colab": {
          "base_uri": "https://localhost:8080/",
          "height": 74
        },
        "id": "HTWMG9I3SiW0",
        "outputId": "33691096-ee2e-4ede-d672-286592cecfe7"
      },
      "execution_count": 30,
      "outputs": [
        {
          "output_type": "execute_result",
          "data": {
            "text/plain": [
              "MultinomialNB()"
            ],
            "text/html": [
              "<style>#sk-container-id-1 {color: black;background-color: white;}#sk-container-id-1 pre{padding: 0;}#sk-container-id-1 div.sk-toggleable {background-color: white;}#sk-container-id-1 label.sk-toggleable__label {cursor: pointer;display: block;width: 100%;margin-bottom: 0;padding: 0.3em;box-sizing: border-box;text-align: center;}#sk-container-id-1 label.sk-toggleable__label-arrow:before {content: \"▸\";float: left;margin-right: 0.25em;color: #696969;}#sk-container-id-1 label.sk-toggleable__label-arrow:hover:before {color: black;}#sk-container-id-1 div.sk-estimator:hover label.sk-toggleable__label-arrow:before {color: black;}#sk-container-id-1 div.sk-toggleable__content {max-height: 0;max-width: 0;overflow: hidden;text-align: left;background-color: #f0f8ff;}#sk-container-id-1 div.sk-toggleable__content pre {margin: 0.2em;color: black;border-radius: 0.25em;background-color: #f0f8ff;}#sk-container-id-1 input.sk-toggleable__control:checked~div.sk-toggleable__content {max-height: 200px;max-width: 100%;overflow: auto;}#sk-container-id-1 input.sk-toggleable__control:checked~label.sk-toggleable__label-arrow:before {content: \"▾\";}#sk-container-id-1 div.sk-estimator input.sk-toggleable__control:checked~label.sk-toggleable__label {background-color: #d4ebff;}#sk-container-id-1 div.sk-label input.sk-toggleable__control:checked~label.sk-toggleable__label {background-color: #d4ebff;}#sk-container-id-1 input.sk-hidden--visually {border: 0;clip: rect(1px 1px 1px 1px);clip: rect(1px, 1px, 1px, 1px);height: 1px;margin: -1px;overflow: hidden;padding: 0;position: absolute;width: 1px;}#sk-container-id-1 div.sk-estimator {font-family: monospace;background-color: #f0f8ff;border: 1px dotted black;border-radius: 0.25em;box-sizing: border-box;margin-bottom: 0.5em;}#sk-container-id-1 div.sk-estimator:hover {background-color: #d4ebff;}#sk-container-id-1 div.sk-parallel-item::after {content: \"\";width: 100%;border-bottom: 1px solid gray;flex-grow: 1;}#sk-container-id-1 div.sk-label:hover label.sk-toggleable__label {background-color: #d4ebff;}#sk-container-id-1 div.sk-serial::before {content: \"\";position: absolute;border-left: 1px solid gray;box-sizing: border-box;top: 0;bottom: 0;left: 50%;z-index: 0;}#sk-container-id-1 div.sk-serial {display: flex;flex-direction: column;align-items: center;background-color: white;padding-right: 0.2em;padding-left: 0.2em;position: relative;}#sk-container-id-1 div.sk-item {position: relative;z-index: 1;}#sk-container-id-1 div.sk-parallel {display: flex;align-items: stretch;justify-content: center;background-color: white;position: relative;}#sk-container-id-1 div.sk-item::before, #sk-container-id-1 div.sk-parallel-item::before {content: \"\";position: absolute;border-left: 1px solid gray;box-sizing: border-box;top: 0;bottom: 0;left: 50%;z-index: -1;}#sk-container-id-1 div.sk-parallel-item {display: flex;flex-direction: column;z-index: 1;position: relative;background-color: white;}#sk-container-id-1 div.sk-parallel-item:first-child::after {align-self: flex-end;width: 50%;}#sk-container-id-1 div.sk-parallel-item:last-child::after {align-self: flex-start;width: 50%;}#sk-container-id-1 div.sk-parallel-item:only-child::after {width: 0;}#sk-container-id-1 div.sk-dashed-wrapped {border: 1px dashed gray;margin: 0 0.4em 0.5em 0.4em;box-sizing: border-box;padding-bottom: 0.4em;background-color: white;}#sk-container-id-1 div.sk-label label {font-family: monospace;font-weight: bold;display: inline-block;line-height: 1.2em;}#sk-container-id-1 div.sk-label-container {text-align: center;}#sk-container-id-1 div.sk-container {/* jupyter's `normalize.less` sets `[hidden] { display: none; }` but bootstrap.min.css set `[hidden] { display: none !important; }` so we also need the `!important` here to be able to override the default hidden behavior on the sphinx rendered scikit-learn.org. See: https://github.com/scikit-learn/scikit-learn/issues/21755 */display: inline-block !important;position: relative;}#sk-container-id-1 div.sk-text-repr-fallback {display: none;}</style><div id=\"sk-container-id-1\" class=\"sk-top-container\"><div class=\"sk-text-repr-fallback\"><pre>MultinomialNB()</pre><b>In a Jupyter environment, please rerun this cell to show the HTML representation or trust the notebook. <br />On GitHub, the HTML representation is unable to render, please try loading this page with nbviewer.org.</b></div><div class=\"sk-container\" hidden><div class=\"sk-item\"><div class=\"sk-estimator sk-toggleable\"><input class=\"sk-toggleable__control sk-hidden--visually\" id=\"sk-estimator-id-1\" type=\"checkbox\" checked><label for=\"sk-estimator-id-1\" class=\"sk-toggleable__label sk-toggleable__label-arrow\">MultinomialNB</label><div class=\"sk-toggleable__content\"><pre>MultinomialNB()</pre></div></div></div></div></div>"
            ]
          },
          "metadata": {},
          "execution_count": 30
        }
      ]
    },
    {
      "cell_type": "markdown",
      "source": [
        "Teste do modelo Naive Bayes"
      ],
      "metadata": {
        "id": "6EvlbaRp4bVu"
      }
    },
    {
      "cell_type": "code",
      "source": [
        "teste = pd.read_csv('/content/drive/MyDrive/Colab Notebooks/Sentiment_Analysis/archive/TestDatasets/Test.csv', delimiter = ';')"
      ],
      "metadata": {
        "id": "G22L5fMPvXyA"
      },
      "execution_count": 31,
      "outputs": []
    },
    {
      "cell_type": "code",
      "source": [
        "y_teste = teste['sentiment']"
      ],
      "metadata": {
        "id": "rwvYSlcU5blu"
      },
      "execution_count": 32,
      "outputs": []
    },
    {
      "cell_type": "code",
      "source": [
        "teste_preprocessed = []\n",
        "for i in range(len(teste.tweet_text)):\n",
        "  teste_preprocessed.append(pre_processing_tweets(teste.tweet_text[i]))"
      ],
      "metadata": {
        "id": "pRd43OKEvO75"
      },
      "execution_count": 33,
      "outputs": []
    },
    {
      "cell_type": "code",
      "source": [
        "teste_vetorizado = cv.transform(teste_preprocessed)"
      ],
      "metadata": {
        "id": "hLsjyAFLwv6h"
      },
      "execution_count": 34,
      "outputs": []
    },
    {
      "cell_type": "code",
      "source": [
        "y_pred = nb_classifier.predict(teste_vetorizado.toarray())"
      ],
      "metadata": {
        "id": "-I536Mu30YQM"
      },
      "execution_count": 35,
      "outputs": []
    },
    {
      "cell_type": "code",
      "source": [
        "from sklearn.metrics import (accuracy_score, confusion_matrix, ConfusionMatrixDisplay, f1_score)"
      ],
      "metadata": {
        "id": "2wIzRWKc5lT8"
      },
      "execution_count": 36,
      "outputs": []
    },
    {
      "cell_type": "code",
      "source": [
        "f1 = f1_score(y_pred, y_teste, average=\"weighted\")\n",
        "acc = accuracy_score(y_teste, y_pred)\n",
        "print(\"Accuracy:\", acc)\n",
        "print(\"F1 Score:\", f1)"
      ],
      "metadata": {
        "colab": {
          "base_uri": "https://localhost:8080/"
        },
        "id": "MLcj3PMq50ZU",
        "outputId": "c89b19eb-0214-41c6-d239-36e5212c0066"
      },
      "execution_count": 39,
      "outputs": [
        {
          "output_type": "stream",
          "name": "stdout",
          "text": [
            "Accuracy: 0.718\n",
            "F1 Score: 0.71848886392836\n"
          ]
        }
      ]
    },
    {
      "cell_type": "code",
      "source": [
        "accuracy_score(y_teste, y_pred)"
      ],
      "metadata": {
        "colab": {
          "base_uri": "https://localhost:8080/"
        },
        "id": "TJplpuL65TsT",
        "outputId": "0e57c276-4982-4945-c297-cb502d543fed"
      },
      "execution_count": 42,
      "outputs": [
        {
          "output_type": "execute_result",
          "data": {
            "text/plain": [
              "0.718"
            ]
          },
          "metadata": {},
          "execution_count": 42
        }
      ]
    },
    {
      "cell_type": "markdown",
      "source": [
        "A primeira limitação pode ocorrer porque ao rotular todos os textos que tem o emoticon \":)\" como sentimento positivo (valor=1), pode ser que essa forma de anotação não considere sarcasmos ou ironias, que poderiam ter outro valor associado.\n",
        "Com relação à vetorização do texto, existem outros algoritmos que não implementamos aqui, como word2vec, bag-of-words e n-gram.\n",
        "\n",
        "O modelo Naive Bayes também pode ter limitações por não considerar o contexto das palavras e considerá-las independentes. No entanto, o modelo inicial teve uma acurácia de 71,8% que poderia ser melhorada a partir de outras técnicas implementadas."
      ],
      "metadata": {
        "id": "UKxgekwZ_IKO"
      }
    }
  ],
  "metadata": {
    "colab": {
      "provenance": [],
      "authorship_tag": "ABX9TyM2TDZJtt5me95FBM4XQJGP",
      "include_colab_link": true
    },
    "kernelspec": {
      "display_name": "Python 3",
      "name": "python3"
    },
    "language_info": {
      "name": "python"
    }
  },
  "nbformat": 4,
  "nbformat_minor": 0
}